{
 "cells": [
  {
   "cell_type": "code",
   "execution_count": 35,
   "metadata": {},
   "outputs": [
    {
     "data": {
      "text/plain": [
       "array([49., 49.,  2., 85.])"
      ]
     },
     "execution_count": 35,
     "metadata": {},
     "output_type": "execute_result"
    }
   ],
   "source": [
    "import numpy as np\n",
    "\n",
    "#notes is an example list of frequencies, and new notes is a blank array for the corresponding notes\n",
    "notes = [440, 441, 29.1, 3521]\n",
    "new_notes = np.zeros(len(notes))\n",
    "\n",
    "#these functions turn frequencies into notes and vice versa\n",
    "def freq(n):\n",
    "    return 440 * 2 ** ((n-49)/12)\n",
    "def note(f):\n",
    "    return 39.86 * np.log10(f/440) + 49\n",
    "\n",
    "#iteration gives a list of the frequencies of the 88 notes on a keyboard\n",
    "keyboard = np.zeros(88)\n",
    "for i in range(88):\n",
    "    keyboard[i] = freq(i+1)\n",
    "\n",
    "#if the input 'notes' frequency is within 5% of a keyboard frequency, we assign the keyboard note to the input frequency. this is iterated through every keyboard note for each input frequency\n",
    "for i in range(len(notes)):\n",
    "    for j in range(len(keyboard)):\n",
    "        error = j/20\n",
    "        if notes[i] < keyboard[j] + error and notes[i] > keyboard[j] - error:\n",
    "            new_notes[i] = j + 1\n",
    "new_notes"
   ]
  },
  {
   "cell_type": "code",
   "execution_count": null,
   "metadata": {},
   "outputs": [],
   "source": []
  }
 ],
 "metadata": {
  "kernelspec": {
   "display_name": "Python 3",
   "language": "python",
   "name": "python3"
  },
  "language_info": {
   "codemirror_mode": {
    "name": "ipython",
    "version": 3
   },
   "file_extension": ".py",
   "mimetype": "text/x-python",
   "name": "python",
   "nbconvert_exporter": "python",
   "pygments_lexer": "ipython3",
   "version": "3.8.6"
  }
 },
 "nbformat": 4,
 "nbformat_minor": 4
}
